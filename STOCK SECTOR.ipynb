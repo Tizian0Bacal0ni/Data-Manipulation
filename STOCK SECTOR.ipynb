{
 "cells": [
  {
   "cell_type": "code",
   "execution_count": 5,
   "metadata": {},
   "outputs": [],
   "source": [
    "import pandas as pd\n",
    "import numpy as np"
   ]
  },
  {
   "cell_type": "code",
   "execution_count": 9,
   "metadata": {},
   "outputs": [],
   "source": [
    "share_db = pd.read_csv('//Users/tiziana/Desktop/PYTHON/TESI MAGISTRALE/DATI/FINANCIAL INDEX/STOCK MARKET /Share Prices All Shares:Broad /ELABORAZIONE PROPRIA/Share-data.csv')\n",
    "stock_db = pd.read_csv('/Users/tiziana/Desktop/PYTHON/TESI MAGISTRALE/DATI/FINANCIAL INDEX/STOCK MARKET /MARKET INDEXES/ELABORAZIONE PROPRIA/stock_idx.csv')"
   ]
  },
  {
   "cell_type": "code",
   "execution_count": 10,
   "metadata": {},
   "outputs": [
    {
     "name": "stderr",
     "output_type": "stream",
     "text": [
      "/var/folders/dh/zp5lxqxj269938btf9rcxlh40000gn/T/ipykernel_3824/1850064350.py:4: FutureWarning: The default value of numeric_only in DataFrameGroupBy.sum is deprecated. In a future version, numeric_only will default to False. Either specify numeric_only or select only columns which should be valid for the function.\n",
      "  share_db.groupby('Country').sum().index\n"
     ]
    },
    {
     "data": {
      "text/plain": [
       "Index(['Australia', 'Austria', 'Belgium', 'Canada', 'China', 'Denmark',\n",
       "       'Finland', 'France', 'Germany', 'Greece', 'Iceland', 'Ireland', 'Italy',\n",
       "       'Japan', 'Netherlands', 'Norway', 'Portugal', 'Russia', 'South Korea',\n",
       "       'Spain', 'Sweden', 'Switzerland', 'United Kingdom', 'United States'],\n",
       "      dtype='object', name='Country')"
      ]
     },
     "execution_count": 10,
     "metadata": {},
     "output_type": "execute_result"
    }
   ],
   "source": [
    "share_db = share_db[['Trimestre', 'Share price','Country']]\n",
    "share_db.columns = ['DATE', 'Share price','Country']\n",
    "share_db.head(10)\n",
    "share_db.groupby('Country').sum().index   \n"
   ]
  },
  {
   "cell_type": "code",
   "execution_count": 11,
   "metadata": {},
   "outputs": [
    {
     "data": {
      "text/plain": [
       "Index(['Australia', 'Austria', 'Belgium', 'Canada', 'China', 'Denmark',\n",
       "       'Finland', 'France', 'Germany', 'Greece', 'Iceland', 'Ireland', 'Italy',\n",
       "       'Japan', 'Netherlands', 'Norway', 'Portugal', 'Russia', 'South Korea',\n",
       "       'Spain', 'Sweden', 'Switzerland', 'United Kingdom', 'United States'],\n",
       "      dtype='object', name='Country')"
      ]
     },
     "execution_count": 11,
     "metadata": {},
     "output_type": "execute_result"
    }
   ],
   "source": [
    "stock_db = stock_db[['DATE','Stock idx open-price','Country']]\n",
    "stock_db.head(10)\n",
    "stock_db.set_index(['Country','DATE'],inplace=True)\n",
    "stock_db.groupby('Country').sum().index   \n"
   ]
  },
  {
   "cell_type": "code",
   "execution_count": 12,
   "metadata": {},
   "outputs": [],
   "source": [
    "\n",
    "stock = pd.merge(stock_db,share_db, left_index=True, right_on=['Country', 'DATE'])"
   ]
  },
  {
   "cell_type": "code",
   "execution_count": 14,
   "metadata": {},
   "outputs": [],
   "source": [
    "stock.to_csv('STOCK-SECTOR.csv')"
   ]
  }
 ],
 "metadata": {
  "kernelspec": {
   "display_name": "qmp_env",
   "language": "python",
   "name": "python3"
  },
  "language_info": {
   "codemirror_mode": {
    "name": "ipython",
    "version": 3
   },
   "file_extension": ".py",
   "mimetype": "text/x-python",
   "name": "python",
   "nbconvert_exporter": "python",
   "pygments_lexer": "ipython3",
   "version": "3.9.7"
  }
 },
 "nbformat": 4,
 "nbformat_minor": 2
}
