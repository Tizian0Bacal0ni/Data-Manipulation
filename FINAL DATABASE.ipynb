{
 "cells": [
  {
   "cell_type": "code",
   "execution_count": 1,
   "metadata": {},
   "outputs": [],
   "source": [
    "import numpy as np \n",
    "import pandas as pd"
   ]
  },
  {
   "cell_type": "code",
   "execution_count": 2,
   "metadata": {},
   "outputs": [
    {
     "name": "stderr",
     "output_type": "stream",
     "text": [
      "/var/folders/dh/zp5lxqxj269938btf9rcxlh40000gn/T/ipykernel_1075/3190747375.py:2: FutureWarning: The default value of numeric_only in DataFrameGroupBy.sum is deprecated. In a future version, numeric_only will default to False. Either specify numeric_only or select only columns which should be valid for the function.\n",
      "  house_nation = house.groupby('Country').sum().index\n"
     ]
    }
   ],
   "source": [
    "house = pd.read_csv('/Users/tiziana/Desktop/PYTHON/TESI MAGISTRALE/DATI/FINANCIAL INDEX/HOUSING/ELABORAZIONE PROPRIA/DATABASE ELABORATO HOUSING.csv')\n",
    "house_nation = house.groupby('Country').sum().index"
   ]
  },
  {
   "cell_type": "code",
   "execution_count": 3,
   "metadata": {},
   "outputs": [
    {
     "data": {
      "text/plain": [
       "Index(['Australia', 'Austria', 'Belgium', 'Canada', 'Denmark', 'Finland',\n",
       "       'France', 'Germany', 'Greece', 'Iceland', 'Ireland', 'Italy', 'Japan',\n",
       "       'Korea', 'Netherlands', 'Norway', 'Portugal', 'Russia', 'Spain',\n",
       "       'Sweden', 'Switzerland', 'United Kingdom', 'United States'],\n",
       "      dtype='object', name='Country')"
      ]
     },
     "execution_count": 3,
     "metadata": {},
     "output_type": "execute_result"
    }
   ],
   "source": [
    "house_nation"
   ]
  },
  {
   "cell_type": "code",
   "execution_count": 4,
   "metadata": {},
   "outputs": [
    {
     "data": {
      "text/html": [
       "<div>\n",
       "<style scoped>\n",
       "    .dataframe tbody tr th:only-of-type {\n",
       "        vertical-align: middle;\n",
       "    }\n",
       "\n",
       "    .dataframe tbody tr th {\n",
       "        vertical-align: top;\n",
       "    }\n",
       "\n",
       "    .dataframe thead th {\n",
       "        text-align: right;\n",
       "    }\n",
       "</style>\n",
       "<table border=\"1\" class=\"dataframe\">\n",
       "  <thead>\n",
       "    <tr style=\"text-align: right;\">\n",
       "      <th></th>\n",
       "      <th>Country</th>\n",
       "      <th>Trimestre</th>\n",
       "      <th>Credit to private NF sector</th>\n",
       "    </tr>\n",
       "  </thead>\n",
       "  <tbody>\n",
       "    <tr>\n",
       "      <th>0</th>\n",
       "      <td>Australia</td>\n",
       "      <td>2000Q1</td>\n",
       "      <td>-2.294992</td>\n",
       "    </tr>\n",
       "    <tr>\n",
       "      <th>1</th>\n",
       "      <td>Australia</td>\n",
       "      <td>2000Q2</td>\n",
       "      <td>-2.177049</td>\n",
       "    </tr>\n",
       "    <tr>\n",
       "      <th>2</th>\n",
       "      <td>Australia</td>\n",
       "      <td>2000Q3</td>\n",
       "      <td>-2.134161</td>\n",
       "    </tr>\n",
       "    <tr>\n",
       "      <th>3</th>\n",
       "      <td>Australia</td>\n",
       "      <td>2000Q4</td>\n",
       "      <td>-1.967969</td>\n",
       "    </tr>\n",
       "    <tr>\n",
       "      <th>4</th>\n",
       "      <td>Australia</td>\n",
       "      <td>2001Q1</td>\n",
       "      <td>-1.850026</td>\n",
       "    </tr>\n",
       "  </tbody>\n",
       "</table>\n",
       "</div>"
      ],
      "text/plain": [
       "     Country Trimestre  Credit to private NF sector\n",
       "0  Australia    2000Q1                    -2.294992\n",
       "1  Australia    2000Q2                    -2.177049\n",
       "2  Australia    2000Q3                    -2.134161\n",
       "3  Australia    2000Q4                    -1.967969\n",
       "4  Australia    2001Q1                    -1.850026"
      ]
     },
     "execution_count": 4,
     "metadata": {},
     "output_type": "execute_result"
    }
   ],
   "source": [
    "credit = pd.read_csv('/Users/tiziana/Desktop/PYTHON/TESI MAGISTRALE/DATI/FINANCIAL INDEX/CREDIT CYCLE/TOTAL CREDIT TO PRIVATE NON-FINANCIAL SECTOR/ELABORAZIONE PROPRIA/domestic credit.csv')\n",
    "credit.head()"
   ]
  },
  {
   "cell_type": "code",
   "execution_count": 5,
   "metadata": {},
   "outputs": [
    {
     "name": "stderr",
     "output_type": "stream",
     "text": [
      "/var/folders/dh/zp5lxqxj269938btf9rcxlh40000gn/T/ipykernel_1075/1842670301.py:1: FutureWarning: The default value of numeric_only in DataFrameGroupBy.sum is deprecated. In a future version, numeric_only will default to False. Either specify numeric_only or select only columns which should be valid for the function.\n",
      "  credit_nation = credit.groupby('Country').sum().index\n"
     ]
    },
    {
     "data": {
      "text/plain": [
       "Index(['Australia', 'Austria', 'Belgium', 'Canada', 'China', 'Denmark',\n",
       "       'Finland', 'France', 'Germany', 'Greece', 'Ireland', 'Italy', 'Japan',\n",
       "       'Korea', 'Netherlands', 'Poland', 'Portugal', 'Russia', 'Spain',\n",
       "       'Sweden', 'Switzerland', 'United Kingdom', 'United States'],\n",
       "      dtype='object', name='Country')"
      ]
     },
     "execution_count": 5,
     "metadata": {},
     "output_type": "execute_result"
    }
   ],
   "source": [
    "credit_nation = credit.groupby('Country').sum().index\n",
    "credit_nation"
   ]
  },
  {
   "cell_type": "code",
   "execution_count": 6,
   "metadata": {},
   "outputs": [
    {
     "name": "stderr",
     "output_type": "stream",
     "text": [
      "/var/folders/dh/zp5lxqxj269938btf9rcxlh40000gn/T/ipykernel_1075/1536887387.py:4: FutureWarning: The default value of numeric_only in DataFrameGroupBy.sum is deprecated. In a future version, numeric_only will default to False. Either specify numeric_only or select only columns which should be valid for the function.\n",
      "  stock_naz = stock.groupby('Country').sum().index\n"
     ]
    },
    {
     "data": {
      "text/plain": [
       "Index(['Australia', 'Austria', 'Belgium', 'Canada', 'China', 'Denmark',\n",
       "       'Finland', 'France', 'Germany', 'Greece', 'Iceland', 'Ireland', 'Italy',\n",
       "       'Japan', 'Netherlands', 'Norway', 'Portugal', 'Russia', 'South Korea',\n",
       "       'Spain', 'Sweden', 'Switzerland', 'United Kingdom', 'United States'],\n",
       "      dtype='object', name='Country')"
      ]
     },
     "execution_count": 6,
     "metadata": {},
     "output_type": "execute_result"
    }
   ],
   "source": [
    "stock = pd.read_csv('/Users/tiziana/Desktop/PYTHON/TESI MAGISTRALE/DATI/FINANCIAL INDEX/STOCK MARKET /STOCK- ELABORAZIONE PROPRIA/STOCK-SECTOR.csv')\n",
    "stock.head()\n",
    "\n",
    "stock_naz = stock.groupby('Country').sum().index\n",
    "stock_naz"
   ]
  },
  {
   "cell_type": "code",
   "execution_count": 7,
   "metadata": {},
   "outputs": [
    {
     "name": "stderr",
     "output_type": "stream",
     "text": [
      "/var/folders/dh/zp5lxqxj269938btf9rcxlh40000gn/T/ipykernel_1075/3172361616.py:4: FutureWarning: The default value of numeric_only in DataFrameGroupBy.sum is deprecated. In a future version, numeric_only will default to False. Either specify numeric_only or select only columns which should be valid for the function.\n",
      "  long_term_naz = long_term.groupby('Country').sum().index\n"
     ]
    },
    {
     "data": {
      "text/plain": [
       "Index(['Australia', 'Austria', 'Belgium', 'Canada', 'Denmark', 'Finland',\n",
       "       'France', 'Germany', 'Greece', 'Iceland', 'Ireland', 'Italy', 'Japan',\n",
       "       'Korea', 'Latvia', 'Lettonia', 'Netherlands', 'Norway', 'Portugal',\n",
       "       'Russia', 'Spain', 'Sweden', 'Switzerland', 'United Kingdom',\n",
       "       'United States'],\n",
       "      dtype='object', name='Country')"
      ]
     },
     "execution_count": 7,
     "metadata": {},
     "output_type": "execute_result"
    }
   ],
   "source": [
    "long_term = pd.read_csv('/Users/tiziana/Desktop/PYTHON/TESI MAGISTRALE/DATI/FINANCIAL INDEX/LONG TERM INTEREST RATE/ELABORAZIONE PRORPIA/Spread data with USA.csv')\n",
    "long_term.head()\n",
    "\n",
    "long_term_naz = long_term.groupby('Country').sum().index\n",
    "long_term_naz"
   ]
  },
  {
   "cell_type": "code",
   "execution_count": 8,
   "metadata": {},
   "outputs": [
    {
     "name": "stderr",
     "output_type": "stream",
     "text": [
      "/var/folders/dh/zp5lxqxj269938btf9rcxlh40000gn/T/ipykernel_1075/1373020034.py:4: FutureWarning: The default value of numeric_only in DataFrameGroupBy.sum is deprecated. In a future version, numeric_only will default to False. Either specify numeric_only or select only columns which should be valid for the function.\n",
      "  gdp_naz = gdp.groupby('Country').sum().index\n"
     ]
    },
    {
     "data": {
      "text/plain": [
       "Index(['Austria', 'Belgium', 'Finland', 'France', 'Germany', 'Greece', 'Italy',\n",
       "       'Japan', 'Netherlands', 'Portugal', 'Spain', 'Sweden', 'United Kingdom',\n",
       "       'United States'],\n",
       "      dtype='object', name='Country')"
      ]
     },
     "execution_count": 8,
     "metadata": {},
     "output_type": "execute_result"
    }
   ],
   "source": [
    "gdp = pd.read_csv('/Users/tiziana/Desktop/PYTHON/TESI MAGISTRALE/DATI/GDP_GR/GDP GROWTH STANDARDIZED DATA.csv')\n",
    "gdp.head()\n",
    "\n",
    "gdp_naz = gdp.groupby('Country').sum().index\n",
    "gdp_naz"
   ]
  },
  {
   "cell_type": "code",
   "execution_count": 9,
   "metadata": {},
   "outputs": [
    {
     "name": "stderr",
     "output_type": "stream",
     "text": [
      "/var/folders/dh/zp5lxqxj269938btf9rcxlh40000gn/T/ipykernel_1075/804700114.py:4: FutureWarning: The default value of numeric_only in DataFrameGroupBy.sum is deprecated. In a future version, numeric_only will default to False. Either specify numeric_only or select only columns which should be valid for the function.\n",
      "  debt_naz = debt.groupby('Country').sum().index\n"
     ]
    },
    {
     "data": {
      "text/plain": [
       "Index(['Austria', 'Belgium', 'Canada', 'Denmark', 'Estonia', 'Finland',\n",
       "       'France', 'Germany', 'Greece', 'Ireland', 'Italy', 'Japan', 'Lettonia',\n",
       "       'Lituania', 'Netherlands', 'Poland', 'Portugal', 'Spain', 'Sweden',\n",
       "       'United Kingdom', 'United States'],\n",
       "      dtype='object', name='Country')"
      ]
     },
     "execution_count": 9,
     "metadata": {},
     "output_type": "execute_result"
    }
   ],
   "source": [
    "debt = pd.read_csv('/Users/tiziana/Desktop/PYTHON/TESI MAGISTRALE/DATI/TOTAL DEBT/FINAL DEBT.csv')\n",
    "debt.head()\n",
    "\n",
    "debt_naz = debt.groupby('Country').sum().index\n",
    "debt_naz"
   ]
  },
  {
   "cell_type": "code",
   "execution_count": 10,
   "metadata": {},
   "outputs": [
    {
     "data": {
      "text/html": [
       "<div>\n",
       "<style scoped>\n",
       "    .dataframe tbody tr th:only-of-type {\n",
       "        vertical-align: middle;\n",
       "    }\n",
       "\n",
       "    .dataframe tbody tr th {\n",
       "        vertical-align: top;\n",
       "    }\n",
       "\n",
       "    .dataframe thead th {\n",
       "        text-align: right;\n",
       "    }\n",
       "</style>\n",
       "<table border=\"1\" class=\"dataframe\">\n",
       "  <thead>\n",
       "    <tr style=\"text-align: right;\">\n",
       "      <th></th>\n",
       "      <th>Country</th>\n",
       "      <th>Time</th>\n",
       "      <th>Value</th>\n",
       "    </tr>\n",
       "  </thead>\n",
       "  <tbody>\n",
       "    <tr>\n",
       "      <th>0</th>\n",
       "      <td>Australia</td>\n",
       "      <td>Q1-2000</td>\n",
       "      <td>-0.612587</td>\n",
       "    </tr>\n",
       "    <tr>\n",
       "      <th>1</th>\n",
       "      <td>Australia</td>\n",
       "      <td>Q2-2000</td>\n",
       "      <td>-0.631783</td>\n",
       "    </tr>\n",
       "    <tr>\n",
       "      <th>2</th>\n",
       "      <td>Australia</td>\n",
       "      <td>Q3-2000</td>\n",
       "      <td>-0.036885</td>\n",
       "    </tr>\n",
       "    <tr>\n",
       "      <th>3</th>\n",
       "      <td>Australia</td>\n",
       "      <td>Q4-2000</td>\n",
       "      <td>-0.073520</td>\n",
       "    </tr>\n",
       "    <tr>\n",
       "      <th>4</th>\n",
       "      <td>Australia</td>\n",
       "      <td>Q1-2001</td>\n",
       "      <td>0.299204</td>\n",
       "    </tr>\n",
       "  </tbody>\n",
       "</table>\n",
       "</div>"
      ],
      "text/plain": [
       "     Country     Time     Value\n",
       "0  Australia  Q1-2000 -0.612587\n",
       "1  Australia  Q2-2000 -0.631783\n",
       "2  Australia  Q3-2000 -0.036885\n",
       "3  Australia  Q4-2000 -0.073520\n",
       "4  Australia  Q1-2001  0.299204"
      ]
     },
     "execution_count": 10,
     "metadata": {},
     "output_type": "execute_result"
    }
   ],
   "source": [
    "ca = pd.read_csv('/Users/tiziana/Desktop/PYTHON/TESI MAGISTRALE/DATI/CA BALANCE/ELABORAZIONE PROPRIA/CA BALANCE % GDP STANDARDIZED QUARTERLY DATA.csv')\n",
    "ca.head()"
   ]
  },
  {
   "cell_type": "code",
   "execution_count": 11,
   "metadata": {},
   "outputs": [
    {
     "name": "stderr",
     "output_type": "stream",
     "text": [
      "/var/folders/dh/zp5lxqxj269938btf9rcxlh40000gn/T/ipykernel_1075/1084159686.py:1: FutureWarning: The default value of numeric_only in DataFrameGroupBy.sum is deprecated. In a future version, numeric_only will default to False. Either specify numeric_only or select only columns which should be valid for the function.\n",
      "  ca_naz = ca.groupby('Country').sum().index\n"
     ]
    },
    {
     "data": {
      "text/plain": [
       "Index(['Australia', 'Austria', 'Belgium', 'Canada',\n",
       "       'China (People's Republic of)', 'Denmark', 'Estonia', 'Finland',\n",
       "       'France', 'Germany', 'Greece', 'Iceland', 'Ireland', 'Italy', 'Japan',\n",
       "       'Korea', 'Latvia', 'Netherlands', 'Norway', 'Poland', 'Portugal',\n",
       "       'Russia', 'Spain', 'Sweden', 'Switzerland', 'United Kingdom',\n",
       "       'United States'],\n",
       "      dtype='object', name='Country')"
      ]
     },
     "execution_count": 11,
     "metadata": {},
     "output_type": "execute_result"
    }
   ],
   "source": [
    "ca_naz = ca.groupby('Country').sum().index\n",
    "ca_naz"
   ]
  },
  {
   "cell_type": "markdown",
   "metadata": {},
   "source": [
    "## CREAZIONE FINALE DATABASE CON VALORI STANDARDIZZATI"
   ]
  },
  {
   "cell_type": "code",
   "execution_count": 12,
   "metadata": {},
   "outputs": [],
   "source": [
    "housing = pd.read_csv('/Users/tiziana/Desktop/PYTHON/TESI MAGISTRALE/DATI/FINANCIAL INDEX/HOUSING/ELABORAZIONE PROPRIA/DATABASE ELABORATO HOUSING.csv')\n",
    "USA_spread = pd.read_csv('/Users/tiziana/Desktop/PYTHON/TESI MAGISTRALE/DATI/FINANCIAL INDEX/LONG TERM INTEREST RATE/ELABORAZIONE PRORPIA/Spread data with USA.csv')\n",
    "stock_sector = pd.read_csv('/Users/tiziana/Desktop/PYTHON/TESI MAGISTRALE/DATI/FINANCIAL INDEX/STOCK MARKET /STOCK- ELABORAZIONE PROPRIA/STOCK-SECTOR.csv')\n",
    "domestic_credit = pd.read_csv('/Users/tiziana/Desktop/PYTHON/TESI MAGISTRALE/DATI/FINANCIAL INDEX/CREDIT CYCLE/TOTAL CREDIT TO PRIVATE NON-FINANCIAL SECTOR/ELABORAZIONE PROPRIA/domestic credit.csv')\n",
    "spread = pd.read_csv('/Users/tiziana/Desktop/PYTHON/TESI MAGISTRALE/DATI/FINANCIAL INDEX/CREDIT CYCLE/interest rate spread/ELABORAZIONE PROPRIA/SPREAD DEFINITIVO.csv')\n",
    "\n"
   ]
  },
  {
   "cell_type": "code",
   "execution_count": 13,
   "metadata": {},
   "outputs": [
    {
     "data": {
      "text/html": [
       "<div>\n",
       "<style scoped>\n",
       "    .dataframe tbody tr th:only-of-type {\n",
       "        vertical-align: middle;\n",
       "    }\n",
       "\n",
       "    .dataframe tbody tr th {\n",
       "        vertical-align: top;\n",
       "    }\n",
       "\n",
       "    .dataframe thead th {\n",
       "        text-align: right;\n",
       "    }\n",
       "</style>\n",
       "<table border=\"1\" class=\"dataframe\">\n",
       "  <thead>\n",
       "    <tr style=\"text-align: right;\">\n",
       "      <th></th>\n",
       "      <th>Country</th>\n",
       "      <th>Trimestre</th>\n",
       "      <th>Spread</th>\n",
       "    </tr>\n",
       "  </thead>\n",
       "  <tbody>\n",
       "    <tr>\n",
       "      <th>0</th>\n",
       "      <td>Austria</td>\n",
       "      <td>2000Q1</td>\n",
       "      <td>0.591463</td>\n",
       "    </tr>\n",
       "    <tr>\n",
       "      <th>1</th>\n",
       "      <td>Austria</td>\n",
       "      <td>2000Q2</td>\n",
       "      <td>0.616734</td>\n",
       "    </tr>\n",
       "    <tr>\n",
       "      <th>2</th>\n",
       "      <td>Austria</td>\n",
       "      <td>2000Q3</td>\n",
       "      <td>0.497079</td>\n",
       "    </tr>\n",
       "    <tr>\n",
       "      <th>3</th>\n",
       "      <td>Austria</td>\n",
       "      <td>2000Q4</td>\n",
       "      <td>0.413858</td>\n",
       "    </tr>\n",
       "    <tr>\n",
       "      <th>4</th>\n",
       "      <td>Austria</td>\n",
       "      <td>2001Q1</td>\n",
       "      <td>0.378304</td>\n",
       "    </tr>\n",
       "    <tr>\n",
       "      <th>...</th>\n",
       "      <td>...</td>\n",
       "      <td>...</td>\n",
       "      <td>...</td>\n",
       "    </tr>\n",
       "    <tr>\n",
       "      <th>1718</th>\n",
       "      <td>Sweden</td>\n",
       "      <td>2021Q4</td>\n",
       "      <td>-2.565587</td>\n",
       "    </tr>\n",
       "    <tr>\n",
       "      <th>1719</th>\n",
       "      <td>Sweden</td>\n",
       "      <td>2022Q1</td>\n",
       "      <td>-2.565587</td>\n",
       "    </tr>\n",
       "    <tr>\n",
       "      <th>1720</th>\n",
       "      <td>Sweden</td>\n",
       "      <td>2022Q2</td>\n",
       "      <td>-2.565587</td>\n",
       "    </tr>\n",
       "    <tr>\n",
       "      <th>1721</th>\n",
       "      <td>Sweden</td>\n",
       "      <td>2022Q3</td>\n",
       "      <td>-2.565587</td>\n",
       "    </tr>\n",
       "    <tr>\n",
       "      <th>1722</th>\n",
       "      <td>Sweden</td>\n",
       "      <td>2022Q4</td>\n",
       "      <td>-2.565587</td>\n",
       "    </tr>\n",
       "  </tbody>\n",
       "</table>\n",
       "<p>1723 rows × 3 columns</p>\n",
       "</div>"
      ],
      "text/plain": [
       "      Country Trimestre    Spread\n",
       "0     Austria    2000Q1  0.591463\n",
       "1     Austria    2000Q2  0.616734\n",
       "2     Austria    2000Q3  0.497079\n",
       "3     Austria    2000Q4  0.413858\n",
       "4     Austria    2001Q1  0.378304\n",
       "...       ...       ...       ...\n",
       "1718   Sweden    2021Q4 -2.565587\n",
       "1719   Sweden    2022Q1 -2.565587\n",
       "1720   Sweden    2022Q2 -2.565587\n",
       "1721   Sweden    2022Q3 -2.565587\n",
       "1722   Sweden    2022Q4 -2.565587\n",
       "\n",
       "[1723 rows x 3 columns]"
      ]
     },
     "execution_count": 13,
     "metadata": {},
     "output_type": "execute_result"
    }
   ],
   "source": [
    "spread"
   ]
  },
  {
   "cell_type": "code",
   "execution_count": 15,
   "metadata": {},
   "outputs": [],
   "source": [
    "debt = pd.read_csv('/Users/tiziana/Desktop/PYTHON/TESI MAGISTRALE/DATI/TOTAL DEBT/FINAL DEBT.csv')\n",
    "gdp = pd.read_csv('/Users/tiziana/Desktop/PYTHON/TESI MAGISTRALE/DATI/GDP_GR/GDP GROWTH STANDARDIZED DATA.csv')\n",
    "ca = pd.read_csv('/Users/tiziana/Desktop/PYTHON/TESI MAGISTRALE/DATI/CA BALANCE/ELABORAZIONE PROPRIA/CA BALANCE % GDP STANDARDIZED QUARTERLY DATA.csv')"
   ]
  },
  {
   "cell_type": "code",
   "execution_count": 16,
   "metadata": {},
   "outputs": [
    {
     "name": "stderr",
     "output_type": "stream",
     "text": [
      "/var/folders/dh/zp5lxqxj269938btf9rcxlh40000gn/T/ipykernel_1075/637950434.py:2: FutureWarning: The default value of regex will change from True to False in a future version.\n",
      "  housing['Time'] = pd.to_datetime(housing['Time'].str.replace(r'Q(\\d)-(\\d+)', r'\\2Q\\1'))\n"
     ]
    }
   ],
   "source": [
    "\n",
    "trimestri = [f'Q{i}-{anno}' for anno in range(2000, 2023) for i in range(1, 5)]\n",
    "housing['Time'] = pd.to_datetime(housing['Time'].str.replace(r'Q(\\d)-(\\d+)', r'\\2Q\\1'))\n",
    "\n",
    "housing['Time'] = pd.to_datetime(housing['Time'])\n",
    "housing['Trimestre'] = housing['Time'].dt.to_period('Q')\n",
    "\n",
    "housing = housing[['Country','Trimestre','Real house price index','Price-Income Ratio']]"
   ]
  },
  {
   "cell_type": "code",
   "execution_count": 17,
   "metadata": {},
   "outputs": [
    {
     "name": "stderr",
     "output_type": "stream",
     "text": [
      "/var/folders/dh/zp5lxqxj269938btf9rcxlh40000gn/T/ipykernel_1075/3950568881.py:2: FutureWarning: The default value of regex will change from True to False in a future version.\n",
      "  gdp['Period'] = pd.to_datetime(gdp['Period'].str.replace(r'Q(\\d)-(\\d+)', r'\\2Q\\1'))\n"
     ]
    }
   ],
   "source": [
    "\n",
    "trimestri = [f'Q{i}-{anno}' for anno in range(2000, 2023) for i in range(1, 5)]\n",
    "gdp['Period'] = pd.to_datetime(gdp['Period'].str.replace(r'Q(\\d)-(\\d+)', r'\\2Q\\1'))\n",
    "\n",
    "gdp['Period'] = pd.to_datetime(gdp['Period'])\n",
    "gdp['Trimestre'] = gdp['Period'].dt.to_period('Q')\n",
    "\n",
    "gdp = gdp[['Country','Trimestre','Value']]\n",
    "gdp.columns = ['Country','Trimestre','Gdp growth']"
   ]
  },
  {
   "cell_type": "code",
   "execution_count": 18,
   "metadata": {},
   "outputs": [
    {
     "name": "stderr",
     "output_type": "stream",
     "text": [
      "/var/folders/dh/zp5lxqxj269938btf9rcxlh40000gn/T/ipykernel_1075/1215500642.py:2: FutureWarning: The default value of regex will change from True to False in a future version.\n",
      "  ca['Time'] = pd.to_datetime(ca['Time'].str.replace(r'Q(\\d)-(\\d+)', r'\\2Q\\1'))\n"
     ]
    }
   ],
   "source": [
    "\n",
    "trimestri = [f'Q{i}-{anno}' for anno in range(2000, 2023) for i in range(1, 5)]\n",
    "ca['Time'] = pd.to_datetime(ca['Time'].str.replace(r'Q(\\d)-(\\d+)', r'\\2Q\\1'))\n",
    "\n",
    "ca['Time'] = pd.to_datetime(ca['Time'])\n",
    "ca['Trimestre'] = ca['Time'].dt.to_period('Q')\n",
    "\n",
    "ca = ca[['Country','Trimestre','Value']]\n",
    "ca.columns = ['Country','Trimestre','Current Account']"
   ]
  },
  {
   "cell_type": "code",
   "execution_count": 19,
   "metadata": {},
   "outputs": [],
   "source": [
    "domestic_credit= domestic_credit[['Country','Trimestre','Credit to private NF sector']]"
   ]
  },
  {
   "cell_type": "code",
   "execution_count": 20,
   "metadata": {},
   "outputs": [],
   "source": [
    "USA_spread = USA_spread[['Country','Trimestre','LT interest rate']]\n"
   ]
  },
  {
   "cell_type": "code",
   "execution_count": 21,
   "metadata": {},
   "outputs": [],
   "source": [
    "stock_sector = stock_sector[['Stock idx open-price','DATE','Share price','Country']]\n",
    "stock_sector.columns = ['Stock idx open-price','Trimestre','Share price','Country']"
   ]
  },
  {
   "cell_type": "code",
   "execution_count": 22,
   "metadata": {},
   "outputs": [],
   "source": [
    "debt.columns = ['Country','Trimestre','Public Debt']"
   ]
  },
  {
   "cell_type": "code",
   "execution_count": 23,
   "metadata": {},
   "outputs": [],
   "source": [
    "dataframes = [housing,USA_spread,spread,domestic_credit,stock_sector,gdp,ca,debt]\n",
    "\n",
    "for df in dataframes:\n",
    "    df['Country'] = df['Country'].astype(str)\n",
    "    df['Trimestre'] = df['Trimestre'].astype(str)"
   ]
  },
  {
   "cell_type": "code",
   "execution_count": 24,
   "metadata": {},
   "outputs": [
    {
     "name": "stdout",
     "output_type": "stream",
     "text": [
      "Index(['Australia', 'Austria', 'Belgium', 'Canada', 'Denmark', 'Finland',\n",
      "       'France', 'Germany', 'Greece', 'Iceland', 'Ireland', 'Italy', 'Japan',\n",
      "       'Korea', 'Netherlands', 'Norway', 'Portugal', 'Russia', 'Spain',\n",
      "       'Sweden', 'Switzerland', 'United Kingdom', 'United States'],\n",
      "      dtype='object', name='Country')\n",
      "Index(['Australia', 'Austria', 'Belgium', 'Canada', 'Denmark', 'Finland',\n",
      "       'France', 'Germany', 'Greece', 'Iceland', 'Ireland', 'Italy', 'Japan',\n",
      "       'Korea', 'Latvia', 'Lettonia', 'Netherlands', 'Norway', 'Portugal',\n",
      "       'Russia', 'Spain', 'Sweden', 'Switzerland', 'United Kingdom',\n",
      "       'United States'],\n",
      "      dtype='object', name='Country')\n",
      "Index(['Austria', 'Belgium', 'Canada', 'Finland', 'France', 'Germany',\n",
      "       'Greece', 'Ireland', 'Italy', 'Japan', 'Latvia', 'Lithuania',\n",
      "       'Netherlands', 'Portugal', 'Slovakia', 'Spain', 'Sweden',\n",
      "       'United Kingdom', 'United States'],\n",
      "      dtype='object', name='Country')\n",
      "Index(['Australia', 'Austria', 'Belgium', 'Canada', 'China', 'Denmark',\n",
      "       'Finland', 'France', 'Germany', 'Greece', 'Ireland', 'Italy', 'Japan',\n",
      "       'Korea', 'Netherlands', 'Poland', 'Portugal', 'Russia', 'Spain',\n",
      "       'Sweden', 'Switzerland', 'United Kingdom', 'United States'],\n",
      "      dtype='object', name='Country')\n",
      "Index(['Australia', 'Austria', 'Belgium', 'Canada', 'China', 'Denmark',\n",
      "       'Finland', 'France', 'Germany', 'Greece', 'Iceland', 'Ireland', 'Italy',\n",
      "       'Japan', 'Netherlands', 'Norway', 'Portugal', 'Russia', 'South Korea',\n",
      "       'Spain', 'Sweden', 'Switzerland', 'United Kingdom', 'United States'],\n",
      "      dtype='object', name='Country')\n",
      "Index(['Austria', 'Belgium', 'Finland', 'France', 'Germany', 'Greece', 'Italy',\n",
      "       'Japan', 'Netherlands', 'Portugal', 'Spain', 'Sweden', 'United Kingdom',\n",
      "       'United States'],\n",
      "      dtype='object', name='Country')\n",
      "Index(['Australia', 'Austria', 'Belgium', 'Canada',\n",
      "       'China (People's Republic of)', 'Denmark', 'Estonia', 'Finland',\n",
      "       'France', 'Germany', 'Greece', 'Iceland', 'Ireland', 'Italy', 'Japan',\n",
      "       'Korea', 'Latvia', 'Netherlands', 'Norway', 'Poland', 'Portugal',\n",
      "       'Russia', 'Spain', 'Sweden', 'Switzerland', 'United Kingdom',\n",
      "       'United States'],\n",
      "      dtype='object', name='Country')\n",
      "Index(['Austria', 'Belgium', 'Canada', 'Denmark', 'Estonia', 'Finland',\n",
      "       'France', 'Germany', 'Greece', 'Ireland', 'Italy', 'Japan', 'Lettonia',\n",
      "       'Lituania', 'Netherlands', 'Poland', 'Portugal', 'Spain', 'Sweden',\n",
      "       'United Kingdom', 'United States'],\n",
      "      dtype='object', name='Country')\n"
     ]
    },
    {
     "name": "stderr",
     "output_type": "stream",
     "text": [
      "/var/folders/dh/zp5lxqxj269938btf9rcxlh40000gn/T/ipykernel_1075/1300432181.py:2: FutureWarning: The default value of numeric_only in DataFrameGroupBy.sum is deprecated. In a future version, numeric_only will default to False. Either specify numeric_only or select only columns which should be valid for the function.\n",
      "  nazione_dataf = dataf.groupby('Country').sum().index\n",
      "/var/folders/dh/zp5lxqxj269938btf9rcxlh40000gn/T/ipykernel_1075/1300432181.py:2: FutureWarning: The default value of numeric_only in DataFrameGroupBy.sum is deprecated. In a future version, numeric_only will default to False. Either specify numeric_only or select only columns which should be valid for the function.\n",
      "  nazione_dataf = dataf.groupby('Country').sum().index\n",
      "/var/folders/dh/zp5lxqxj269938btf9rcxlh40000gn/T/ipykernel_1075/1300432181.py:2: FutureWarning: The default value of numeric_only in DataFrameGroupBy.sum is deprecated. In a future version, numeric_only will default to False. Either specify numeric_only or select only columns which should be valid for the function.\n",
      "  nazione_dataf = dataf.groupby('Country').sum().index\n",
      "/var/folders/dh/zp5lxqxj269938btf9rcxlh40000gn/T/ipykernel_1075/1300432181.py:2: FutureWarning: The default value of numeric_only in DataFrameGroupBy.sum is deprecated. In a future version, numeric_only will default to False. Either specify numeric_only or select only columns which should be valid for the function.\n",
      "  nazione_dataf = dataf.groupby('Country').sum().index\n",
      "/var/folders/dh/zp5lxqxj269938btf9rcxlh40000gn/T/ipykernel_1075/1300432181.py:2: FutureWarning: The default value of numeric_only in DataFrameGroupBy.sum is deprecated. In a future version, numeric_only will default to False. Either specify numeric_only or select only columns which should be valid for the function.\n",
      "  nazione_dataf = dataf.groupby('Country').sum().index\n",
      "/var/folders/dh/zp5lxqxj269938btf9rcxlh40000gn/T/ipykernel_1075/1300432181.py:2: FutureWarning: The default value of numeric_only in DataFrameGroupBy.sum is deprecated. In a future version, numeric_only will default to False. Either specify numeric_only or select only columns which should be valid for the function.\n",
      "  nazione_dataf = dataf.groupby('Country').sum().index\n",
      "/var/folders/dh/zp5lxqxj269938btf9rcxlh40000gn/T/ipykernel_1075/1300432181.py:2: FutureWarning: The default value of numeric_only in DataFrameGroupBy.sum is deprecated. In a future version, numeric_only will default to False. Either specify numeric_only or select only columns which should be valid for the function.\n",
      "  nazione_dataf = dataf.groupby('Country').sum().index\n",
      "/var/folders/dh/zp5lxqxj269938btf9rcxlh40000gn/T/ipykernel_1075/1300432181.py:2: FutureWarning: The default value of numeric_only in DataFrameGroupBy.sum is deprecated. In a future version, numeric_only will default to False. Either specify numeric_only or select only columns which should be valid for the function.\n",
      "  nazione_dataf = dataf.groupby('Country').sum().index\n"
     ]
    }
   ],
   "source": [
    "for dataf in dataframes:\n",
    "    nazione_dataf = dataf.groupby('Country').sum().index\n",
    "    print(nazione_dataf)\n"
   ]
  },
  {
   "cell_type": "markdown",
   "metadata": {},
   "source": [
    "## CONTROLLO EVENTUALI VALORI ANCORA NA SUL DATABASE SPREAD"
   ]
  },
  {
   "cell_type": "code",
   "execution_count": 25,
   "metadata": {},
   "outputs": [],
   "source": [
    "spread.set_index(['Country','Trimestre'],inplace=True)"
   ]
  },
  {
   "cell_type": "code",
   "execution_count": 26,
   "metadata": {},
   "outputs": [
    {
     "name": "stdout",
     "output_type": "stream",
     "text": [
      "\n",
      "Indices of NaN values:\n",
      "MultiIndex([('Lithuania', '2000Q1', 'Spread'),\n",
      "            ('Lithuania', '2000Q2', 'Spread'),\n",
      "            ('Lithuania', '2000Q3', 'Spread'),\n",
      "            ('Lithuania', '2000Q4', 'Spread'),\n",
      "            ('Lithuania', '2001Q1', 'Spread'),\n",
      "            ('Lithuania', '2001Q2', 'Spread'),\n",
      "            ('Lithuania', '2001Q3', 'Spread'),\n",
      "            ('Lithuania', '2001Q4', 'Spread'),\n",
      "            ('Lithuania', '2002Q1', 'Spread'),\n",
      "            ('Lithuania', '2002Q2', 'Spread'),\n",
      "            ('Lithuania', '2002Q3', 'Spread'),\n",
      "            ('Lithuania', '2002Q4', 'Spread'),\n",
      "            ('Lithuania', '2003Q1', 'Spread'),\n",
      "            ('Lithuania', '2003Q2', 'Spread'),\n",
      "            ('Lithuania', '2003Q3', 'Spread'),\n",
      "            ('Lithuania', '2003Q4', 'Spread'),\n",
      "            ('Lithuania', '2004Q1', 'Spread'),\n",
      "            ('Lithuania', '2004Q2', 'Spread'),\n",
      "            ('Lithuania', '2004Q3', 'Spread'),\n",
      "            ('Lithuania', '2004Q4', 'Spread'),\n",
      "            ('Lithuania', '2005Q1', 'Spread'),\n",
      "            ('Lithuania', '2005Q2', 'Spread'),\n",
      "            ('Lithuania', '2005Q3', 'Spread'),\n",
      "            ('Lithuania', '2005Q4', 'Spread'),\n",
      "            ('Lithuania', '2006Q1', 'Spread'),\n",
      "            ('Lithuania', '2006Q2', 'Spread'),\n",
      "            ('Lithuania', '2006Q3', 'Spread'),\n",
      "            ('Lithuania', '2006Q4', 'Spread'),\n",
      "            ('Lithuania', '2007Q1', 'Spread'),\n",
      "            ('Lithuania', '2007Q2', 'Spread'),\n",
      "            ('Lithuania', '2007Q3', 'Spread'),\n",
      "            ('Lithuania', '2007Q4', 'Spread'),\n",
      "            ('Lithuania', '2008Q1', 'Spread'),\n",
      "            ('Lithuania', '2008Q2', 'Spread'),\n",
      "            ('Lithuania', '2008Q3', 'Spread'),\n",
      "            ('Lithuania', '2008Q4', 'Spread'),\n",
      "            ('Lithuania', '2009Q1', 'Spread'),\n",
      "            (   'Latvia', '2000Q1', 'Spread'),\n",
      "            (   'Latvia', '2000Q2', 'Spread'),\n",
      "            (   'Latvia', '2000Q3', 'Spread'),\n",
      "            (   'Latvia', '2000Q4', 'Spread'),\n",
      "            (   'Latvia', '2001Q1', 'Spread'),\n",
      "            (   'Latvia', '2001Q2', 'Spread'),\n",
      "            (   'Latvia', '2001Q3', 'Spread'),\n",
      "            (   'Latvia', '2001Q4', 'Spread'),\n",
      "            (   'Latvia', '2002Q1', 'Spread'),\n",
      "            (   'Latvia', '2002Q2', 'Spread'),\n",
      "            (   'Latvia', '2002Q3', 'Spread'),\n",
      "            (   'Latvia', '2002Q4', 'Spread'),\n",
      "            (   'Latvia', '2003Q1', 'Spread'),\n",
      "            (   'Latvia', '2003Q2', 'Spread'),\n",
      "            (   'Latvia', '2003Q3', 'Spread'),\n",
      "            (   'Latvia', '2003Q4', 'Spread'),\n",
      "            ( 'Slovakia', '2000Q1', 'Spread'),\n",
      "            ( 'Slovakia', '2000Q2', 'Spread'),\n",
      "            ( 'Slovakia', '2000Q3', 'Spread'),\n",
      "            ( 'Slovakia', '2000Q4', 'Spread'),\n",
      "            ( 'Slovakia', '2001Q1', 'Spread'),\n",
      "            ( 'Slovakia', '2001Q2', 'Spread'),\n",
      "            ( 'Slovakia', '2001Q3', 'Spread'),\n",
      "            ( 'Slovakia', '2001Q4', 'Spread'),\n",
      "            ( 'Slovakia', '2002Q1', 'Spread'),\n",
      "            ( 'Slovakia', '2002Q2', 'Spread'),\n",
      "            ( 'Slovakia', '2002Q3', 'Spread'),\n",
      "            ( 'Slovakia', '2002Q4', 'Spread'),\n",
      "            ( 'Slovakia', '2003Q1', 'Spread'),\n",
      "            ( 'Slovakia', '2003Q2', 'Spread'),\n",
      "            ( 'Slovakia', '2003Q3', 'Spread'),\n",
      "            ( 'Slovakia', '2003Q4', 'Spread'),\n",
      "            ( 'Slovakia', '2004Q1', 'Spread'),\n",
      "            ( 'Slovakia', '2004Q2', 'Spread'),\n",
      "            ( 'Slovakia', '2004Q3', 'Spread'),\n",
      "            ( 'Slovakia', '2004Q4', 'Spread'),\n",
      "            ( 'Slovakia', '2005Q1', 'Spread'),\n",
      "            ( 'Slovakia', '2005Q2', 'Spread'),\n",
      "            ( 'Slovakia', '2005Q3', 'Spread'),\n",
      "            ( 'Slovakia', '2005Q4', 'Spread'),\n",
      "            ( 'Slovakia', '2006Q1', 'Spread'),\n",
      "            ( 'Slovakia', '2006Q2', 'Spread'),\n",
      "            ( 'Slovakia', '2006Q3', 'Spread'),\n",
      "            ( 'Slovakia', '2006Q4', 'Spread'),\n",
      "            ( 'Slovakia', '2007Q1', 'Spread'),\n",
      "            ( 'Slovakia', '2007Q2', 'Spread'),\n",
      "            ( 'Slovakia', '2007Q3', 'Spread'),\n",
      "            ( 'Slovakia', '2007Q4', 'Spread')],\n",
      "           names=['Country', 'Trimestre', None])\n"
     ]
    }
   ],
   "source": [
    "nan_positions = spread.isna()\n",
    "nan_indices = nan_positions.stack()[nan_positions.stack()]\n",
    "print(\"\\nIndices of NaN values:\")\n",
    "print(nan_indices.index)"
   ]
  },
  {
   "cell_type": "markdown",
   "metadata": {},
   "source": [
    "**MANCANO SOLO PAESI NON RILEVANTI OER LA MIA ANALISI QUINDI VA TUTTO BENE**"
   ]
  },
  {
   "cell_type": "markdown",
   "metadata": {},
   "source": [
    "## PROVIAMO AD UNIRE STI DATABASE\n"
   ]
  },
  {
   "cell_type": "code",
   "execution_count": 27,
   "metadata": {},
   "outputs": [],
   "source": [
    "merged_df = dataframes[0]\n",
    "for df in dataframes[1:]:\n",
    "    merged_df = pd.merge(merged_df, df, on=['Country', 'Trimestre'])\n",
    "\n",
    "merged_df = merged_df.drop_duplicates(subset=['Country', 'Trimestre'])\n",
    "merged_df.set_index(['Country','Trimestre'],inplace=True)"
   ]
  },
  {
   "cell_type": "code",
   "execution_count": 29,
   "metadata": {},
   "outputs": [],
   "source": [
    "merged_df.to_csv('DATABASE ULTIMATO.csv')"
   ]
  }
 ],
 "metadata": {
  "kernelspec": {
   "display_name": "qmp_env",
   "language": "python",
   "name": "python3"
  },
  "language_info": {
   "codemirror_mode": {
    "name": "ipython",
    "version": 3
   },
   "file_extension": ".py",
   "mimetype": "text/x-python",
   "name": "python",
   "nbconvert_exporter": "python",
   "pygments_lexer": "ipython3",
   "version": "3.9.7"
  }
 },
 "nbformat": 4,
 "nbformat_minor": 2
}
