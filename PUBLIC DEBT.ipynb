{
 "cells": [
  {
   "cell_type": "code",
   "execution_count": 1,
   "metadata": {},
   "outputs": [],
   "source": [
    "import numpy as np\n",
    "import pandas as pd"
   ]
  },
  {
   "cell_type": "markdown",
   "metadata": {},
   "source": [
    "## DATI BCE  \"GOVERNMENT DEBT(CONSOLIDATED) AS % OF GDP\"  \n",
    "\n",
    "**https://data.ecb.europa.eu/data/data-categories/prices-macroeconomic-and-sectoral-statistics/government-finance/government-debt/gross-government-debt-consolidated/total**"
   ]
  },
  {
   "cell_type": "code",
   "execution_count": 2,
   "metadata": {},
   "outputs": [],
   "source": [
    "df = pd.read_csv('/Users/tiziana/Desktop/PYTHON/TESI MAGISTRALE/DATI/TOTAL DEBT/ECB Data Portal_20240516100442.csv')\n",
    "df.tail()\n",
    "df.columns = ['DATE','TIME PERIOD','Estonia','Spain','Finland','France','United Kingdom','Greece','Ireland','Italy','Lituania']\n"
   ]
  },
  {
   "cell_type": "code",
   "execution_count": 3,
   "metadata": {},
   "outputs": [],
   "source": [
    "df2 = pd.read_csv('/Users/tiziana/Desktop/PYTHON/TESI MAGISTRALE/DATI/TOTAL DEBT/ECB Data Portal_20240516100815.csv')\n",
    "df2.head()\n",
    "\n",
    "df2.columns=['DATE','TIME PERIOD','Austria','Belgium','Germany','Denmark','Lettonia','Netherlands','Poland','Portugal','Sweden','United States']"
   ]
  },
  {
   "cell_type": "code",
   "execution_count": 4,
   "metadata": {},
   "outputs": [],
   "source": [
    "jpn = pd.read_csv('/Users/tiziana/Desktop/PYTHON/TESI MAGISTRALE/DATI/TOTAL DEBT/ECB JAPAN % GDP.csv')\n",
    "jpn.columns = ['DATE','PERIOD','PUBLIC DEBT']"
   ]
  },
  {
   "cell_type": "code",
   "execution_count": 5,
   "metadata": {},
   "outputs": [],
   "source": [
    "nazioni2 = ['Austria','Belgium','Germany','Denmark','Lettonia','Netherlands','Poland','Portugal','Sweden','United States']\n",
    "nazioni = ['Estonia','Spain','Finland','France','United Kingdom','Greece','Ireland','Italy','Lituania']"
   ]
  },
  {
   "cell_type": "code",
   "execution_count": 6,
   "metadata": {},
   "outputs": [],
   "source": [
    "df.set_index('TIME PERIOD',inplace=True)\n",
    "df2.set_index('TIME PERIOD',inplace=True)"
   ]
  },
  {
   "cell_type": "code",
   "execution_count": 7,
   "metadata": {},
   "outputs": [],
   "source": [
    "anni = ['2000Q1', '2000Q2', '2000Q3', '2000Q4', '2001Q1', '2001Q2', '2001Q3', '2001Q4', '2002Q1', '2002Q2', '2002Q3', '2002Q4', '2003Q1', '2003Q2', '2003Q3', '2003Q4', '2004Q1', '2004Q2', '2004Q3', '2004Q4', '2005Q1', '2005Q2', '2005Q3', '2005Q4', '2006Q1', '2006Q2', '2006Q3', '2006Q4', '2007Q1', '2007Q2', '2007Q3', '2007Q4', '2008Q1', '2008Q2', '2008Q3', '2008Q4', '2009Q1', '2009Q2', '2009Q3', '2009Q4', '2010Q1', '2010Q2', '2010Q3', '2010Q4', '2011Q1', '2011Q2', '2011Q3', '2011Q4', '2012Q1', '2012Q2', '2012Q3', '2012Q4', '2013Q1', '2013Q2', '2013Q3', '2013Q4', '2014Q1', '2014Q2', '2014Q3', '2014Q4', '2015Q1', '2015Q2', '2015Q3', '2015Q4', '2016Q1', '2016Q2', '2016Q3', '2016Q4', '2017Q1', '2017Q2', '2017Q3', '2017Q4', '2018Q1', '2018Q2', '2018Q3', '2018Q4', '2019Q1', '2019Q2', '2019Q3', '2019Q4', '2020Q1', '2020Q2', '2020Q3', '2020Q4', '2021Q1', '2021Q2', '2021Q3', '2021Q4', '2022Q1', '2022Q2', '2022Q3', '2022Q4']"
   ]
  },
  {
   "cell_type": "code",
   "execution_count": 8,
   "metadata": {},
   "outputs": [],
   "source": [
    "new_df = []\n",
    "for nazione in nazioni:\n",
    "    dati_nazionali = pd.DataFrame(df[nazione])\n",
    "    dati_nazionali = dati_nazionali.loc[anni]\n",
    "    dati_nazionali['Country'] = nazione\n",
    "    dati_nazionali.columns = ['PUBLIC DEBT','Country']\n",
    "    new_df.append(dati_nazionali)\n",
    "    \n",
    "    \n",
    "    def_df = pd.concat((new_df),axis=0)\n",
    "    \n",
    "    \n",
    "    "
   ]
  },
  {
   "cell_type": "code",
   "execution_count": 9,
   "metadata": {},
   "outputs": [],
   "source": [
    "new_df2 = []\n",
    "for nazione in nazioni2:\n",
    "    dati_nazionali = pd.DataFrame(df2[nazione])\n",
    "    dati_nazionali = dati_nazionali.loc[anni]\n",
    "    dati_nazionali['Country'] = nazione\n",
    "    dati_nazionali.columns = ['PUBLIC DEBT','Country']\n",
    "    new_df2.append(dati_nazionali)\n",
    "    \n",
    "    \n",
    "    def_df2 = pd.concat(new_df2,axis=0)\n",
    "    "
   ]
  },
  {
   "cell_type": "code",
   "execution_count": 10,
   "metadata": {},
   "outputs": [],
   "source": [
    "debt = pd.concat([def_df2,def_df],axis=0)"
   ]
  },
  {
   "cell_type": "code",
   "execution_count": 11,
   "metadata": {},
   "outputs": [
    {
     "data": {
      "text/html": [
       "<div>\n",
       "<style scoped>\n",
       "    .dataframe tbody tr th:only-of-type {\n",
       "        vertical-align: middle;\n",
       "    }\n",
       "\n",
       "    .dataframe tbody tr th {\n",
       "        vertical-align: top;\n",
       "    }\n",
       "\n",
       "    .dataframe thead th {\n",
       "        text-align: right;\n",
       "    }\n",
       "</style>\n",
       "<table border=\"1\" class=\"dataframe\">\n",
       "  <thead>\n",
       "    <tr style=\"text-align: right;\">\n",
       "      <th></th>\n",
       "      <th>PUBLIC DEBT</th>\n",
       "      <th>Country</th>\n",
       "    </tr>\n",
       "    <tr>\n",
       "      <th>TIME PERIOD</th>\n",
       "      <th></th>\n",
       "      <th></th>\n",
       "    </tr>\n",
       "  </thead>\n",
       "  <tbody>\n",
       "    <tr>\n",
       "      <th>2000Q1</th>\n",
       "      <td>70.240</td>\n",
       "      <td>Austria</td>\n",
       "    </tr>\n",
       "    <tr>\n",
       "      <th>2000Q2</th>\n",
       "      <td>70.763</td>\n",
       "      <td>Austria</td>\n",
       "    </tr>\n",
       "    <tr>\n",
       "      <th>2000Q3</th>\n",
       "      <td>71.450</td>\n",
       "      <td>Austria</td>\n",
       "    </tr>\n",
       "    <tr>\n",
       "      <th>2000Q4</th>\n",
       "      <td>66.124</td>\n",
       "      <td>Austria</td>\n",
       "    </tr>\n",
       "    <tr>\n",
       "      <th>2001Q1</th>\n",
       "      <td>69.926</td>\n",
       "      <td>Austria</td>\n",
       "    </tr>\n",
       "    <tr>\n",
       "      <th>...</th>\n",
       "      <td>...</td>\n",
       "      <td>...</td>\n",
       "    </tr>\n",
       "    <tr>\n",
       "      <th>2021Q4</th>\n",
       "      <td>43.442</td>\n",
       "      <td>Lituania</td>\n",
       "    </tr>\n",
       "    <tr>\n",
       "      <th>2022Q1</th>\n",
       "      <td>39.461</td>\n",
       "      <td>Lituania</td>\n",
       "    </tr>\n",
       "    <tr>\n",
       "      <th>2022Q2</th>\n",
       "      <td>39.265</td>\n",
       "      <td>Lituania</td>\n",
       "    </tr>\n",
       "    <tr>\n",
       "      <th>2022Q3</th>\n",
       "      <td>36.997</td>\n",
       "      <td>Lituania</td>\n",
       "    </tr>\n",
       "    <tr>\n",
       "      <th>2022Q4</th>\n",
       "      <td>38.069</td>\n",
       "      <td>Lituania</td>\n",
       "    </tr>\n",
       "  </tbody>\n",
       "</table>\n",
       "<p>1748 rows × 2 columns</p>\n",
       "</div>"
      ],
      "text/plain": [
       "             PUBLIC DEBT   Country\n",
       "TIME PERIOD                       \n",
       "2000Q1            70.240   Austria\n",
       "2000Q2            70.763   Austria\n",
       "2000Q3            71.450   Austria\n",
       "2000Q4            66.124   Austria\n",
       "2001Q1            69.926   Austria\n",
       "...                  ...       ...\n",
       "2021Q4            43.442  Lituania\n",
       "2022Q1            39.461  Lituania\n",
       "2022Q2            39.265  Lituania\n",
       "2022Q3            36.997  Lituania\n",
       "2022Q4            38.069  Lituania\n",
       "\n",
       "[1748 rows x 2 columns]"
      ]
     },
     "execution_count": 11,
     "metadata": {},
     "output_type": "execute_result"
    }
   ],
   "source": [
    "debt"
   ]
  },
  {
   "cell_type": "code",
   "execution_count": 12,
   "metadata": {},
   "outputs": [
    {
     "name": "stderr",
     "output_type": "stream",
     "text": [
      "/var/folders/dh/zp5lxqxj269938btf9rcxlh40000gn/T/ipykernel_43341/923691256.py:2: FutureWarning: The default value of numeric_only in DataFrameGroupBy.sum is deprecated. In a future version, numeric_only will default to False. Either specify numeric_only or select only columns which should be valid for the function.\n",
      "  anni = list(debt.groupby('TIME PERIOD').sum().index)\n"
     ]
    }
   ],
   "source": [
    "debt.reset_index(inplace=True)\n",
    "anni = list(debt.groupby('TIME PERIOD').sum().index)\n",
    "\n",
    "debt.set_index(['Country','TIME PERIOD'],inplace=True)"
   ]
  },
  {
   "cell_type": "code",
   "execution_count": 13,
   "metadata": {},
   "outputs": [],
   "source": [
    "nazioni = list(debt.groupby('Country').sum().index)"
   ]
  },
  {
   "cell_type": "code",
   "execution_count": 14,
   "metadata": {},
   "outputs": [],
   "source": [
    "stat = {}\n",
    "for nazione in nazioni:\n",
    "    mean = debt.loc[nazione].mean()\n",
    "    std = debt.loc[nazione].std()\n",
    "\n",
    "    stat[nazione] = {\n",
    "        'mean': mean,\n",
    "        'std': std\n",
    "    }\n",
    "     "
   ]
  },
  {
   "cell_type": "code",
   "execution_count": 15,
   "metadata": {},
   "outputs": [
    {
     "data": {
      "text/plain": [
       "PUBLIC DEBT    30.505489\n",
       "dtype: float64"
      ]
     },
     "execution_count": 15,
     "metadata": {},
     "output_type": "execute_result"
    }
   ],
   "source": [
    "stat['Lituania']['mean']"
   ]
  },
  {
   "cell_type": "code",
   "execution_count": 16,
   "metadata": {},
   "outputs": [
    {
     "data": {
      "text/plain": [
       "PUBLIC DEBT    9.887311\n",
       "dtype: float64"
      ]
     },
     "execution_count": 16,
     "metadata": {},
     "output_type": "execute_result"
    }
   ],
   "source": [
    "stat['Lituania']['std']"
   ]
  },
  {
   "cell_type": "code",
   "execution_count": 17,
   "metadata": {},
   "outputs": [],
   "source": [
    "for nazione in nazioni:\n",
    "    for anno in anni:\n",
    "        debt.loc[(nazione,anno)] = (debt.loc[(nazione,anno)] - stat[nazione]['mean'] ) / stat[nazione]['std']\n",
    "\n"
   ]
  },
  {
   "cell_type": "code",
   "execution_count": null,
   "metadata": {},
   "outputs": [],
   "source": []
  },
  {
   "cell_type": "code",
   "execution_count": 18,
   "metadata": {},
   "outputs": [],
   "source": [
    "jpn = jpn[['PERIOD','PUBLIC DEBT']]\n",
    "jpn.set_index('PERIOD',inplace=True)\n",
    "jpn = jpn.loc[anni]\n",
    "\n",
    "jpn =jpn.reset_index()\n",
    "jpn['Country'] = 'Japan'\n",
    "jpn.set_index(['Country','PERIOD'],inplace=True)\n"
   ]
  },
  {
   "cell_type": "code",
   "execution_count": 19,
   "metadata": {},
   "outputs": [],
   "source": [
    "mean = jpn.mean()\n",
    "std = jpn.std()\n",
    "\n",
    "jpn = (jpn -mean) / std"
   ]
  },
  {
   "cell_type": "code",
   "execution_count": 20,
   "metadata": {},
   "outputs": [
    {
     "data": {
      "text/html": [
       "<div>\n",
       "<style scoped>\n",
       "    .dataframe tbody tr th:only-of-type {\n",
       "        vertical-align: middle;\n",
       "    }\n",
       "\n",
       "    .dataframe tbody tr th {\n",
       "        vertical-align: top;\n",
       "    }\n",
       "\n",
       "    .dataframe thead th {\n",
       "        text-align: right;\n",
       "    }\n",
       "</style>\n",
       "<table border=\"1\" class=\"dataframe\">\n",
       "  <thead>\n",
       "    <tr style=\"text-align: right;\">\n",
       "      <th></th>\n",
       "      <th></th>\n",
       "      <th>PUBLIC DEBT</th>\n",
       "    </tr>\n",
       "    <tr>\n",
       "      <th>Country</th>\n",
       "      <th>PERIOD</th>\n",
       "      <th></th>\n",
       "    </tr>\n",
       "  </thead>\n",
       "  <tbody>\n",
       "    <tr>\n",
       "      <th rowspan=\"11\" valign=\"top\">Japan</th>\n",
       "      <th>2000Q1</th>\n",
       "      <td>-1.846895</td>\n",
       "    </tr>\n",
       "    <tr>\n",
       "      <th>2000Q2</th>\n",
       "      <td>-1.766813</td>\n",
       "    </tr>\n",
       "    <tr>\n",
       "      <th>2000Q3</th>\n",
       "      <td>-1.775224</td>\n",
       "    </tr>\n",
       "    <tr>\n",
       "      <th>2000Q4</th>\n",
       "      <td>-1.690954</td>\n",
       "    </tr>\n",
       "    <tr>\n",
       "      <th>2001Q1</th>\n",
       "      <td>-1.501175</td>\n",
       "    </tr>\n",
       "    <tr>\n",
       "      <th>...</th>\n",
       "      <td>...</td>\n",
       "    </tr>\n",
       "    <tr>\n",
       "      <th>2021Q4</th>\n",
       "      <td>1.477239</td>\n",
       "    </tr>\n",
       "    <tr>\n",
       "      <th>2022Q1</th>\n",
       "      <td>1.649777</td>\n",
       "    </tr>\n",
       "    <tr>\n",
       "      <th>2022Q2</th>\n",
       "      <td>1.729149</td>\n",
       "    </tr>\n",
       "    <tr>\n",
       "      <th>2022Q3</th>\n",
       "      <td>1.687545</td>\n",
       "    </tr>\n",
       "    <tr>\n",
       "      <th>2022Q4</th>\n",
       "      <td>1.683453</td>\n",
       "    </tr>\n",
       "  </tbody>\n",
       "</table>\n",
       "<p>92 rows × 1 columns</p>\n",
       "</div>"
      ],
      "text/plain": [
       "                PUBLIC DEBT\n",
       "Country PERIOD             \n",
       "Japan   2000Q1    -1.846895\n",
       "        2000Q2    -1.766813\n",
       "        2000Q3    -1.775224\n",
       "        2000Q4    -1.690954\n",
       "        2001Q1    -1.501175\n",
       "...                     ...\n",
       "        2021Q4     1.477239\n",
       "        2022Q1     1.649777\n",
       "        2022Q2     1.729149\n",
       "        2022Q3     1.687545\n",
       "        2022Q4     1.683453\n",
       "\n",
       "[92 rows x 1 columns]"
      ]
     },
     "execution_count": 20,
     "metadata": {},
     "output_type": "execute_result"
    }
   ],
   "source": [
    "jpn"
   ]
  },
  {
   "cell_type": "code",
   "execution_count": 21,
   "metadata": {},
   "outputs": [],
   "source": [
    "can = pd.read_csv('/Users/tiziana/Desktop/PYTHON/TESI MAGISTRALE/DATI/TOTAL DEBT/OECD CANADA E SVIZZERA DEBT %GDP QUARTERLY.csv')\n",
    "can.head()\n",
    "\n",
    "can.set_index('Country',inplace=True)\n",
    "can = can.loc['Canada']\n",
    "can = can[['Time','Value']]\n",
    "\n",
    "can = can.reset_index()\n",
    "can.set_index(['Country','Time'],inplace=True)\n",
    "\n",
    "mean = can.mean()\n",
    "std = can.std()\n",
    "\n",
    "can = (can - mean) / std\n",
    "can.columns = ['PUBLIC DEBT']"
   ]
  },
  {
   "cell_type": "code",
   "execution_count": 22,
   "metadata": {},
   "outputs": [],
   "source": [
    "can.to_csv('canada debito.csv')"
   ]
  },
  {
   "cell_type": "code",
   "execution_count": 23,
   "metadata": {},
   "outputs": [
    {
     "data": {
      "text/html": [
       "<div>\n",
       "<style scoped>\n",
       "    .dataframe tbody tr th:only-of-type {\n",
       "        vertical-align: middle;\n",
       "    }\n",
       "\n",
       "    .dataframe tbody tr th {\n",
       "        vertical-align: top;\n",
       "    }\n",
       "\n",
       "    .dataframe thead th {\n",
       "        text-align: right;\n",
       "    }\n",
       "</style>\n",
       "<table border=\"1\" class=\"dataframe\">\n",
       "  <thead>\n",
       "    <tr style=\"text-align: right;\">\n",
       "      <th></th>\n",
       "      <th></th>\n",
       "      <th>PUBLIC DEBT</th>\n",
       "    </tr>\n",
       "    <tr>\n",
       "      <th>Country</th>\n",
       "      <th>TIME PERIOD</th>\n",
       "      <th></th>\n",
       "    </tr>\n",
       "  </thead>\n",
       "  <tbody>\n",
       "    <tr>\n",
       "      <th rowspan=\"5\" valign=\"top\">Austria</th>\n",
       "      <th>2000Q1</th>\n",
       "      <td>-0.960817</td>\n",
       "    </tr>\n",
       "    <tr>\n",
       "      <th>2000Q2</th>\n",
       "      <td>-0.880322</td>\n",
       "    </tr>\n",
       "    <tr>\n",
       "      <th>2000Q3</th>\n",
       "      <td>-0.774585</td>\n",
       "    </tr>\n",
       "    <tr>\n",
       "      <th>2000Q4</th>\n",
       "      <td>-1.594316</td>\n",
       "    </tr>\n",
       "    <tr>\n",
       "      <th>2001Q1</th>\n",
       "      <td>-1.009146</td>\n",
       "    </tr>\n",
       "    <tr>\n",
       "      <th>...</th>\n",
       "      <th>...</th>\n",
       "      <td>...</td>\n",
       "    </tr>\n",
       "    <tr>\n",
       "      <th rowspan=\"5\" valign=\"top\">Canada</th>\n",
       "      <th>Q4-2021</th>\n",
       "      <td>3.107657</td>\n",
       "    </tr>\n",
       "    <tr>\n",
       "      <th>Q1-2022</th>\n",
       "      <td>3.215648</td>\n",
       "    </tr>\n",
       "    <tr>\n",
       "      <th>Q2-2022</th>\n",
       "      <td>3.343397</td>\n",
       "    </tr>\n",
       "    <tr>\n",
       "      <th>Q3-2022</th>\n",
       "      <td>3.469287</td>\n",
       "    </tr>\n",
       "    <tr>\n",
       "      <th>Q4-2022</th>\n",
       "      <td>3.541490</td>\n",
       "    </tr>\n",
       "  </tbody>\n",
       "</table>\n",
       "<p>19050 rows × 1 columns</p>\n",
       "</div>"
      ],
      "text/plain": [
       "                     PUBLIC DEBT\n",
       "Country TIME PERIOD             \n",
       "Austria 2000Q1         -0.960817\n",
       "        2000Q2         -0.880322\n",
       "        2000Q3         -0.774585\n",
       "        2000Q4         -1.594316\n",
       "        2001Q1         -1.009146\n",
       "...                          ...\n",
       "Canada  Q4-2021         3.107657\n",
       "        Q1-2022         3.215648\n",
       "        Q2-2022         3.343397\n",
       "        Q3-2022         3.469287\n",
       "        Q4-2022         3.541490\n",
       "\n",
       "[19050 rows x 1 columns]"
      ]
     },
     "execution_count": 23,
     "metadata": {},
     "output_type": "execute_result"
    }
   ],
   "source": [
    "debt = pd.concat([debt,jpn,can],axis=0)\n",
    "debt "
   ]
  },
  {
   "cell_type": "code",
   "execution_count": 24,
   "metadata": {},
   "outputs": [],
   "source": [
    "debt.to_csv('FINAL DEBT.csv')"
   ]
  },
  {
   "cell_type": "code",
   "execution_count": 25,
   "metadata": {},
   "outputs": [
    {
     "data": {
      "text/plain": [
       "['Austria',\n",
       " 'Belgium',\n",
       " 'Denmark',\n",
       " 'Estonia',\n",
       " 'Finland',\n",
       " 'France',\n",
       " 'Germany',\n",
       " 'Greece',\n",
       " 'Ireland',\n",
       " 'Italy',\n",
       " 'Lettonia',\n",
       " 'Lituania',\n",
       " 'Netherlands',\n",
       " 'Poland',\n",
       " 'Portugal',\n",
       " 'Spain',\n",
       " 'Sweden',\n",
       " 'United Kingdom',\n",
       " 'United States']"
      ]
     },
     "execution_count": 25,
     "metadata": {},
     "output_type": "execute_result"
    }
   ],
   "source": [
    "nazioni"
   ]
  },
  {
   "cell_type": "code",
   "execution_count": null,
   "metadata": {},
   "outputs": [],
   "source": []
  }
 ],
 "metadata": {
  "kernelspec": {
   "display_name": "qmp_env",
   "language": "python",
   "name": "python3"
  },
  "language_info": {
   "codemirror_mode": {
    "name": "ipython",
    "version": 3
   },
   "file_extension": ".py",
   "mimetype": "text/x-python",
   "name": "python",
   "nbconvert_exporter": "python",
   "pygments_lexer": "ipython3",
   "version": "3.9.7"
  }
 },
 "nbformat": 4,
 "nbformat_minor": 2
}
